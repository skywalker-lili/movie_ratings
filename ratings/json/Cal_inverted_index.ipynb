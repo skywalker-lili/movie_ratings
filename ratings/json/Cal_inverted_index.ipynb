{
 "cells": [
  {
   "cell_type": "code",
   "execution_count": 1,
   "metadata": {
    "collapsed": true
   },
   "outputs": [],
   "source": [
    "import os\n",
    "import json"
   ]
  },
  {
   "cell_type": "code",
   "execution_count": 2,
   "metadata": {
    "collapsed": false
   },
   "outputs": [
    {
     "name": "stdout",
     "output_type": "stream",
     "text": [
      "3677\n"
     ]
    },
    {
     "data": {
      "text/plain": [
       "{u'comment': u'for strong violence and some language',\n",
       " u'name': u'V for Vendetta',\n",
       " u'preview': u\"01:40:59,198\\nGive me the money!\\nGive me the money!\\nGive me the fucking money!\\nWe're under siege here.\\n\\n00:16:38,355\\nor I'll get Storm Saxon on your ass.\\nor I'll get Storm Saxon on your ass.\\nFucking hell.\\nCome on, let's move!\\n\\n00:47:09,418\\nher confession?\\nher confession?\\nYou little bitch. You fucking little whore!\\n- Reverend.\\n\\n00:04:08,272\\nthank you very much.\\nthank you very much.\\nOh, shit.\\nA yellow-coded curfew is now in effect.\\n\\n00:16:15,265\\n...for five years.\\n...for five years.\\n- Shit.\\nWe're gonna need backup,\\n\\n01:16:22,089\\nWhy protect someone\\nWhy protect someone\\nwho doesn't give a shit about you?\\nI remember how the meaning of words\\n\\n01:30:48,421\\nPolice have arrested nine suspects...\\nPolice have arrested nine suspects...\\nCan you believe this shit?\\nBeen going on all summer.\\n\\n00:15:22,946\\nto set them off, okay?\\nto set them off, okay?\\n- I can't believe you watch that shit.\\n- What?\\n\\n00:33:14,283\\nand he has no idea how to light me.\\nand he has no idea how to light me.\\nMy nose looks like Big fucking Ben.\\nListen to me, you bleeding sod,\\n\\n00:54:30,692\\nThere's a problem with the connection.\\nThere's a problem with the connection.\\nJesus Christ.\\nHe's there.\\n\",\n",
       " u'rating_actual': u'R',\n",
       " u'rating_predict': u'R',\n",
       " u'top_words': [[u'fucking', 0.0489700700522607],\n",
       "  [u'evey', 0.04046218446769367],\n",
       "  [u'shit', 0.033075895413070176],\n",
       "  [u'terrorist', 0.029664155594271185],\n",
       "  [u'finch', 0.02747714133108939],\n",
       "  [u'killed', 0.019448549594791642],\n",
       "  [u'didn', 0.01617601976741338],\n",
       "  [u'bloody', 0.014028860942087626],\n",
       "  [u'kill', 0.013012701754282815],\n",
       "  [u'christ', 0.012718775849622438],\n",
       "  [u'yeah', 0.011975535021756677],\n",
       "  [u'inspector', 0.011816929460293883],\n",
       "  [u'happened', 0.011026324793073845],\n",
       "  [u'understand', 0.010447009804554432],\n",
       "  [u'die', 0.010307185101110795],\n",
       "  [u'jesus', 0.010042180068558523],\n",
       "  [u'night', 0.009662159355081234],\n",
       "  [u'tonight', 0.009620643446358112],\n",
       "  [u'goddamn', 0.008959800329939769],\n",
       "  [u'god', 0.008605994670629651],\n",
       "  [u'hell', 0.008378577542727654],\n",
       "  [u'men', 0.008363146395234522],\n",
       "  [u'grace', 0.008297093482965676],\n",
       "  [u'else', 0.0076386500269185215],\n",
       "  [u'death', 0.006882933836920868],\n",
       "  [u'london', 0.006852295341055344],\n",
       "  [u'dead', 0.006548668607976736],\n",
       "  [u'st', 0.006381263137856294],\n",
       "  [u'chief', 0.0063303405273738185],\n",
       "  [u'devil', 0.006327220669462439]],\n",
       " u'year': u'2005'}"
      ]
     },
     "execution_count": 2,
     "metadata": {},
     "output_type": "execute_result"
    }
   ],
   "source": [
    "# Read data\n",
    "with open(\"movies.160501.json\") as data_file:\n",
    "    movies = json.load(data_file)\n",
    "print len(movies)\n",
    "movies[0]"
   ]
  },
  {
   "cell_type": "code",
   "execution_count": 3,
   "metadata": {
    "collapsed": false
   },
   "outputs": [
    {
     "name": "stdout",
     "output_type": "stream",
     "text": [
      "3677\n"
     ]
    },
    {
     "data": {
      "text/plain": [
       "[u'V', u'for', u'Vendetta']"
      ]
     },
     "execution_count": 3,
     "metadata": {},
     "output_type": "execute_result"
    }
   ],
   "source": [
    "# Create a list of lists of the tokens in each movie\n",
    "# Each list in the big list is a movie, each token in the list is word token from the title of this movie\n",
    "title_tokens = [] \n",
    "for movie in movies:\n",
    "    title_tokens.append(movie[\"name\"].split())\n",
    "\n",
    "print len(title_tokens)\n",
    "title_tokens[0]"
   ]
  },
  {
   "cell_type": "code",
   "execution_count": 4,
   "metadata": {
    "collapsed": false
   },
   "outputs": [
    {
     "name": "stdout",
     "output_type": "stream",
     "text": [
      "4114\n"
     ]
    },
    {
     "data": {
      "text/plain": [
       "[0]"
      ]
     },
     "execution_count": 4,
     "metadata": {},
     "output_type": "execute_result"
    }
   ],
   "source": [
    "# Function to create inverted index\n",
    "# Inverted index is a dictionary between tokens and a list of index of movie json object\n",
    "from collections import defaultdict\n",
    "\n",
    "def create_inverted_idx(title_tokens):\n",
    "    inverted_index = defaultdict(list)\n",
    "    for i, tokens in enumerate(title_tokens):\n",
    "        for token in tokens:\n",
    "            inverted_index[token.lower()].append(i) # all tokens to lower case\n",
    "    return inverted_index\n",
    "\n",
    "inverted_index = create_inverted_idx(title_tokens)\n",
    "print len(inverted_index.keys())\n",
    "inverted_index[\"Vendetta\".lower()]"
   ]
  },
  {
   "cell_type": "code",
   "execution_count": 5,
   "metadata": {
    "collapsed": false
   },
   "outputs": [
    {
     "name": "stdout",
     "output_type": "stream",
     "text": [
      "[42, 64, 370, 390, 404, 540, 562, 647, 769, 897, 904, 1115, 1183, 1224, 1233, 1364, 1368, 1439, 1491, 1563, 1646, 1776, 1806, 1834, 1933, 1951, 2063, 2107, 2201, 2220, 2339, 2568, 2662, 2734, 3046, 3047, 3262, 3324, 3348, 3500, 3504]\n",
      "\n",
      "[42, 64, 370, 390, 404, 540, 562, 647, 769, 897, 904, 1115, 1183, 1224, 1233, 1364, 1368, 1439, 1491, 1563, 1646, 1776, 1806, 1834, 1933, 1951, 2063, 2107, 2201, 2220, 2339, 2568, 2662, 2734, 3046, 3047, 3262, 3324, 3348, 3500, 3504]\n",
      "\n",
      "[1748, 2003]\n",
      "\n",
      "[]\n",
      "[]\n"
     ]
    }
   ],
   "source": [
    "# Test cases\n",
    "print inverted_index[\"Love\".lower()]\n",
    "print\n",
    "print inverted_index[\"love\".lower()]\n",
    "print\n",
    "print inverted_index[\"hate\"]\n",
    "print\n",
    "print inverted_index[\"violence\"]\n",
    "print inverted_index[\"Superman\"]"
   ]
  },
  {
   "cell_type": "code",
   "execution_count": 6,
   "metadata": {
    "collapsed": true
   },
   "outputs": [],
   "source": [
    "# Output inverted index in a json file\n",
    "import json\n",
    "import io\n",
    "\n",
    "def output(inverted_index, file_name):\n",
    "    with io.open(file_name, 'w', encoding='utf-8') as output_file:\n",
    "        output_file.write(unicode(json.dumps(inverted_index, ensure_ascii=False)))\n"
   ]
  },
  {
   "cell_type": "code",
   "execution_count": 7,
   "metadata": {
    "collapsed": false
   },
   "outputs": [],
   "source": [
    "# Actual output\n",
    "output(inverted_index,\"inverted_index.json\")"
   ]
  },
  {
   "cell_type": "code",
   "execution_count": 8,
   "metadata": {
    "collapsed": false
   },
   "outputs": [
    {
     "data": {
      "text/plain": [
       "[5, 3]"
      ]
     },
     "execution_count": 8,
     "metadata": {},
     "output_type": "execute_result"
    }
   ],
   "source": [
    "l = [5,4,3]\n",
    "l.remove(4)\n",
    "l"
   ]
  }
 ],
 "metadata": {
  "kernelspec": {
   "display_name": "Python 2",
   "language": "python",
   "name": "python2"
  },
  "language_info": {
   "codemirror_mode": {
    "name": "ipython",
    "version": 2
   },
   "file_extension": ".py",
   "mimetype": "text/x-python",
   "name": "python",
   "nbconvert_exporter": "python",
   "pygments_lexer": "ipython2",
   "version": "2.7.5"
  }
 },
 "nbformat": 4,
 "nbformat_minor": 0
}
