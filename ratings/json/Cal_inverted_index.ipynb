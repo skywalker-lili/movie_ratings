{
 "cells": [
  {
   "cell_type": "code",
   "execution_count": 18,
   "metadata": {
    "collapsed": true
   },
   "outputs": [],
   "source": [
    "import os\n",
    "import json\n",
    "import re"
   ]
  },
  {
   "cell_type": "code",
   "execution_count": 19,
   "metadata": {
    "collapsed": false
   },
   "outputs": [
    {
     "name": "stdout",
     "output_type": "stream",
     "text": [
      "30648\n"
     ]
    },
    {
     "data": {
      "text/plain": [
       "{u'comment': u'for strong violence, pervasive language, sexuality and drug content',\n",
       " u'name': u'Lock, Stock and Two Smoking Barrels',\n",
       " u'preview': u'01:05:40,677\\nShut up and back up!\\nSpin round, big boy.\\nFuck!\\nStay down. Stay down!\\n\\n01:10:41,252\\nFuck you, funny man.\\nYou go first.\\nJust get the fuck in there, will you ?\\nI want this house searched for bugs,\\n\\n00:54:42,500\\nJust get rid of him quick.\\nAll right. Just coming.\\nWhat the fuck is he doing?\\nCome on, I can\\'t wait\\n\\n00:56:21,244\\nwith fucking planks of wood.\\nShit !\\nWhat the fuck is that?\\n- What the fuck\\'s that?\\n\\n00:57:01,949\\nyourself up, you tart!\\nIt\\'s a fucking air rifle!\\n- What the fuck was that?\\n- Well, that was the bren gun.\\n\\n00:53:08,128\\nworrying, the job or your past?\\nCome on, girls.\\nWhere the fuck are they going?\\nShift a piano?\\n\\n01:21:02,161\\nwhat they got to do?\\nYeah.\\nWhat the fuck is going on?\\nYou got something here\\n\\n01:00:39,867\\nJesus Christ.\\nGordon Bennett.\\nWhat the fuck\\'s\\nbeen going on here?\\n\\n01:02:08,215\\nDo it quietly.\\nIt\\'s time to say \"Goodnight, nurse\".\\nWhere the fuck\\ndid she come from?\\n',\n",
       " u'rating_actual': u'R',\n",
       " u'rating_predict': u'R',\n",
       " u'top_words': [[u'fucking', 0.7844879714440669],\n",
       "  [u'fuck', 0.36521265106603157],\n",
       "  [u'shit', 0.0958997440211742],\n",
       "  [u'money', 0.03781548846292687],\n",
       "  [u'jesus', 0.026977529769453897],\n",
       "  [u'yeah', 0.025773899431746853],\n",
       "  [u'fuckin', 0.024067963678988558],\n",
       "  [u'kill', 0.015211504260978507],\n",
       "  [u'bastard', 0.01417206467358943],\n",
       "  [u'fucked', 0.013804206159671997],\n",
       "  [u'kenny', 0.01136329557085788],\n",
       "  [u'guns', 0.010280855613298083],\n",
       "  [u'quid', 0.009915005790985492],\n",
       "  [u'ok', 0.009487632260056895],\n",
       "  [u'christ', 0.009028189436175286],\n",
       "  [u'arse', 0.008978720887196995],\n",
       "  [u'pay', 0.008446258442613113],\n",
       "  [u'dead', 0.007507030505033388],\n",
       "  [u'weed', 0.007501262431973305],\n",
       "  [u'hell', 0.005606814269024821],\n",
       "  [u'chris', 0.005531097568601772],\n",
       "  [u'son', 0.005031884518950283],\n",
       "  [u'bit', 0.004733000633704601],\n",
       "  [u'door', 0.00468065937885074],\n",
       "  [u'paul', 0.00450380536029281],\n",
       "  [u'call', 0.004464089241241706],\n",
       "  [u'didn', 0.004360689837616175],\n",
       "  [u'business', 0.004313210473280736],\n",
       "  [u'drink', 0.004308376598846847],\n",
       "  [u'pub', 0.004023542273478144]],\n",
       " u'year': u'1998'}"
      ]
     },
     "execution_count": 19,
     "metadata": {},
     "output_type": "execute_result"
    }
   ],
   "source": [
    "# Read data\n",
    "with open(\"movies.json\") as data_file:\n",
    "    movies = json.load(data_file)\n",
    "print len(movies)\n",
    "movies[0]"
   ]
  },
  {
   "cell_type": "code",
   "execution_count": 20,
   "metadata": {
    "collapsed": false
   },
   "outputs": [
    {
     "name": "stdout",
     "output_type": "stream",
     "text": [
      "30648\n"
     ]
    },
    {
     "data": {
      "text/plain": [
       "[u'Lock', u'Stock', u'and', u'Two', u'Smoking', u'Barrels']"
      ]
     },
     "execution_count": 20,
     "metadata": {},
     "output_type": "execute_result"
    }
   ],
   "source": [
    "# Create a list of lists of the tokens in each movie\n",
    "# Each list in the big list is a movie, each token in the list is word token from the title of this movie\n",
    "title_tokens = []\n",
    "for movie in movies:\n",
    "    terms = movie[\"name\"].split()\n",
    "    title_tokens.append([re.sub(r'\\W+', '', term) for term in terms]) # only keep the alphanumeric characts for each term\n",
    "\n",
    "print len(title_tokens)\n",
    "title_tokens[0]"
   ]
  },
  {
   "cell_type": "code",
   "execution_count": 21,
   "metadata": {
    "collapsed": false
   },
   "outputs": [
    {
     "name": "stdout",
     "output_type": "stream",
     "text": [
      "19282\n"
     ]
    }
   ],
   "source": [
    "# Function to create inverted index\n",
    "# Inverted index is a dictionary between tokens and a list of index of movie json object\n",
    "from collections import defaultdict\n",
    "\n",
    "def create_inverted_idx(title_tokens):\n",
    "    inverted_index = defaultdict(list)\n",
    "    for i, tokens in enumerate(title_tokens):\n",
    "        for token in tokens:\n",
    "            inverted_index[token.lower()].append(i) # all tokens to lower case\n",
    "    return inverted_index\n",
    "\n",
    "inverted_index = create_inverted_idx(title_tokens)\n",
    "print len(inverted_index.keys())"
   ]
  },
  {
   "cell_type": "code",
   "execution_count": 22,
   "metadata": {
    "collapsed": false
   },
   "outputs": [
    {
     "name": "stdout",
     "output_type": "stream",
     "text": [
      "V for Vendetta\n",
      "La vendetta\n",
      "Final Vendetta\n",
      "Vendetta: Secrets of a Mafia Bride\n",
      "Vendetta\n",
      "Vendetta\n",
      "Vendetta\n",
      "Vendetta dal futuro\n"
     ]
    }
   ],
   "source": [
    "for idx in inverted_index[\"Vendetta\".lower()]:\n",
    "    print movies[idx][\"name\"]"
   ]
  },
  {
   "cell_type": "code",
   "execution_count": 25,
   "metadata": {
    "collapsed": false
   },
   "outputs": [
    {
     "name": "stdout",
     "output_type": "stream",
     "text": [
      "[521]\n"
     ]
    }
   ],
   "source": [
    "print inverted_index[\"sith\"]"
   ]
  },
  {
   "cell_type": "code",
   "execution_count": 35,
   "metadata": {
    "collapsed": false
   },
   "outputs": [
    {
     "name": "stdout",
     "output_type": "stream",
     "text": [
      "[484, 521, 735, 781, 830, 1690, 1807, 2018, 2115, 2133, 2611, 2700, 2986, 3189, 3238, 3950, 4092, 4359, 4474, 5650, 6002, 6267, 6585, 6867, 6907, 7072, 7875, 7969, 8174, 9150, 9207, 9374, 9540, 9822, 10281, 13156, 13496, 13632, 13932, 14842, 15349, 15787, 15806, 16243, 16299, 16629, 17110, 18392, 18591, 20300, 21050, 21350, 21378, 21767, 22392, 23151, 23474, 23543, 23737, 23838, 24700, 24816, 25276, 25463, 25865, 27057, 27570, 27659, 28413, 28856]\n",
      "\n",
      "[521, 1807, 2018, 2115, 2115, 2374, 2458, 2986, 4359, 4474, 5244, 9822, 10281, 11057, 12932, 14503, 14633, 17355, 17937, 17968, 19025, 19469, 19682, 19719, 20558, 20761, 20934, 21767, 24314, 25102, 25276, 27916, 28928]\n",
      "\n",
      "Star Wars: Episode I - The Phantom Menace\n",
      "Star Wars: The Clone Wars\n",
      "Star Wars: Episode V - The Empire Strikes Back\n",
      "Star Wars: Episode III - Revenge of the Sith\n",
      "Star Wars: Episode VI - Return of the Jedi\n",
      "Star Wars: Secrets of the Rebellion\n",
      "Star Wars\n",
      "Star Wars: Revelations\n",
      "Star Wars: Episode II - Attack of the Clones\n",
      "Star Wars: Episode VII - The Force Awakens\n",
      "Lego Star Wars: The Empire Strikes Out\n"
     ]
    }
   ],
   "source": [
    "# Test cases\n",
    "print inverted_index[\"star\".lower()]\n",
    "print\n",
    "print inverted_index[\"wars\".lower()]\n",
    "print\n",
    "\n",
    "test1 = inverted_index[\"star\"]\n",
    "test2 = inverted_index[\"wars\"]\n",
    "for idx in set.intersection(set(test1), set(test2)):\n",
    "    print movies[idx][\"name\"]\n"
   ]
  },
  {
   "cell_type": "code",
   "execution_count": 29,
   "metadata": {
    "collapsed": true
   },
   "outputs": [],
   "source": [
    "# Output inverted index in a json file\n",
    "import json\n",
    "import io\n",
    "\n",
    "def output(inverted_index, file_name):\n",
    "    with io.open(file_name, 'w', encoding='utf-8') as output_file:\n",
    "        output_file.write(unicode(json.dumps(inverted_index, ensure_ascii=False)))\n"
   ]
  },
  {
   "cell_type": "code",
   "execution_count": 30,
   "metadata": {
    "collapsed": false
   },
   "outputs": [],
   "source": [
    "# Actual output\n",
    "output(inverted_index,\"inverted_index.json\")"
   ]
  },
  {
   "cell_type": "code",
   "execution_count": 33,
   "metadata": {
    "collapsed": false
   },
   "outputs": [
    {
     "data": {
      "text/plain": [
       "[2965, 4471, 9207, 17908]"
      ]
     },
     "execution_count": 33,
     "metadata": {},
     "output_type": "execute_result"
    }
   ],
   "source": [
    "inverted_index[\"80\"]"
   ]
  },
  {
   "cell_type": "code",
   "execution_count": 39,
   "metadata": {
    "collapsed": false
   },
   "outputs": [
    {
     "name": "stdout",
     "output_type": "stream",
     "text": [
      "0\n",
      "\n"
     ]
    }
   ],
   "source": [
    "test = re.sub(r'\\W+', \"\", \"\\\"\\\"\")\n",
    "print len(test)\n",
    "print test"
   ]
  }
 ],
 "metadata": {
  "kernelspec": {
   "display_name": "Python 2",
   "language": "python",
   "name": "python2"
  },
  "language_info": {
   "codemirror_mode": {
    "name": "ipython",
    "version": 2
   },
   "file_extension": ".py",
   "mimetype": "text/x-python",
   "name": "python",
   "nbconvert_exporter": "python",
   "pygments_lexer": "ipython2",
   "version": "2.7.11"
  }
 },
 "nbformat": 4,
 "nbformat_minor": 0
}
