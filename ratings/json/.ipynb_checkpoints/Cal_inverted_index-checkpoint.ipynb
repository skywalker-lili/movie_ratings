{
 "cells": [
  {
   "cell_type": "code",
   "execution_count": 1,
   "metadata": {
    "collapsed": true
   },
   "outputs": [],
   "source": [
    "import os\n",
    "import json"
   ]
  },
  {
   "cell_type": "code",
   "execution_count": 2,
   "metadata": {
    "collapsed": false
   },
   "outputs": [
    {
     "name": "stdout",
     "output_type": "stream",
     "text": [
      "30648\n"
     ]
    },
    {
     "data": {
      "text/plain": [
       "{u'comment': u'for strong violence, pervasive language, sexuality and drug content',\n",
       " u'name': u'Lock, Stock and Two Smoking Barrels',\n",
       " u'preview': u'01:05:40,677\\nShut up and back up!\\nSpin round, big boy.\\nFuck!\\nStay down. Stay down!\\n\\n01:10:41,252\\nFuck you, funny man.\\nYou go first.\\nJust get the fuck in there, will you ?\\nI want this house searched for bugs,\\n\\n00:54:42,500\\nJust get rid of him quick.\\nAll right. Just coming.\\nWhat the fuck is he doing?\\nCome on, I can\\'t wait\\n\\n00:56:21,244\\nwith fucking planks of wood.\\nShit !\\nWhat the fuck is that?\\n- What the fuck\\'s that?\\n\\n00:57:01,949\\nyourself up, you tart!\\nIt\\'s a fucking air rifle!\\n- What the fuck was that?\\n- Well, that was the bren gun.\\n\\n00:53:08,128\\nworrying, the job or your past?\\nCome on, girls.\\nWhere the fuck are they going?\\nShift a piano?\\n\\n01:21:02,161\\nwhat they got to do?\\nYeah.\\nWhat the fuck is going on?\\nYou got something here\\n\\n01:00:39,867\\nJesus Christ.\\nGordon Bennett.\\nWhat the fuck\\'s\\nbeen going on here?\\n\\n01:02:08,215\\nDo it quietly.\\nIt\\'s time to say \"Goodnight, nurse\".\\nWhere the fuck\\ndid she come from?\\n',\n",
       " u'rating_actual': u'R',\n",
       " u'rating_predict': u'R',\n",
       " u'top_words': [[u'fucking', 0.7844879714440669],\n",
       "  [u'fuck', 0.36521265106603157],\n",
       "  [u'shit', 0.0958997440211742],\n",
       "  [u'money', 0.03781548846292687],\n",
       "  [u'jesus', 0.026977529769453897],\n",
       "  [u'yeah', 0.025773899431746853],\n",
       "  [u'fuckin', 0.024067963678988558],\n",
       "  [u'kill', 0.015211504260978507],\n",
       "  [u'bastard', 0.01417206467358943],\n",
       "  [u'fucked', 0.013804206159671997],\n",
       "  [u'kenny', 0.01136329557085788],\n",
       "  [u'guns', 0.010280855613298083],\n",
       "  [u'quid', 0.009915005790985492],\n",
       "  [u'ok', 0.009487632260056895],\n",
       "  [u'christ', 0.009028189436175286],\n",
       "  [u'arse', 0.008978720887196995],\n",
       "  [u'pay', 0.008446258442613113],\n",
       "  [u'dead', 0.007507030505033388],\n",
       "  [u'weed', 0.007501262431973305],\n",
       "  [u'hell', 0.005606814269024821],\n",
       "  [u'chris', 0.005531097568601772],\n",
       "  [u'son', 0.005031884518950283],\n",
       "  [u'bit', 0.004733000633704601],\n",
       "  [u'door', 0.00468065937885074],\n",
       "  [u'paul', 0.00450380536029281],\n",
       "  [u'call', 0.004464089241241706],\n",
       "  [u'didn', 0.004360689837616175],\n",
       "  [u'business', 0.004313210473280736],\n",
       "  [u'drink', 0.004308376598846847],\n",
       "  [u'pub', 0.004023542273478144]],\n",
       " u'year': u'1998'}"
      ]
     },
     "execution_count": 2,
     "metadata": {},
     "output_type": "execute_result"
    }
   ],
   "source": [
    "# Read data\n",
    "with open(\"movies.json\") as data_file:\n",
    "    movies = json.load(data_file)\n",
    "print len(movies)\n",
    "movies[0]"
   ]
  },
  {
   "cell_type": "code",
   "execution_count": 3,
   "metadata": {
    "collapsed": false
   },
   "outputs": [
    {
     "name": "stdout",
     "output_type": "stream",
     "text": [
      "30648\n"
     ]
    },
    {
     "data": {
      "text/plain": [
       "[u'Lock,', u'Stock', u'and', u'Two', u'Smoking', u'Barrels']"
      ]
     },
     "execution_count": 3,
     "metadata": {},
     "output_type": "execute_result"
    }
   ],
   "source": [
    "# Create a list of lists of the tokens in each movie\n",
    "# Each list in the big list is a movie, each token in the list is word token from the title of this movie\n",
    "title_tokens = [] \n",
    "for movie in movies:\n",
    "    title_tokens.append(movie[\"name\"].split())\n",
    "\n",
    "print len(title_tokens)\n",
    "title_tokens[0]"
   ]
  },
  {
   "cell_type": "code",
   "execution_count": 4,
   "metadata": {
    "collapsed": false
   },
   "outputs": [
    {
     "name": "stdout",
     "output_type": "stream",
     "text": [
      "21508\n"
     ]
    },
    {
     "data": {
      "text/plain": [
       "[2423, 7625, 10338, 19111, 20990, 26975, 29696]"
      ]
     },
     "execution_count": 4,
     "metadata": {},
     "output_type": "execute_result"
    }
   ],
   "source": [
    "# Function to create inverted index\n",
    "# Inverted index is a dictionary between tokens and a list of index of movie json object\n",
    "from collections import defaultdict\n",
    "\n",
    "def create_inverted_idx(title_tokens):\n",
    "    inverted_index = defaultdict(list)\n",
    "    for i, tokens in enumerate(title_tokens):\n",
    "        for token in tokens:\n",
    "            inverted_index[token.lower()].append(i) # all tokens to lower case\n",
    "    return inverted_index\n",
    "\n",
    "inverted_index = create_inverted_idx(title_tokens)\n",
    "print len(inverted_index.keys())\n",
    "inverted_index[\"Vendetta\".lower()]"
   ]
  },
  {
   "cell_type": "code",
   "execution_count": 5,
   "metadata": {
    "collapsed": false
   },
   "outputs": [
    {
     "name": "stdout",
     "output_type": "stream",
     "text": [
      "[75, 215, 432, 466, 619, 636, 648, 667, 722, 728, 773, 880, 915, 934, 947, 1081, 1143, 1144, 1208, 1270, 1309, 1336, 1482, 1630, 1662, 1729, 1972, 1976, 2073, 2408, 2465, 2525, 2792, 2889, 2906, 2922, 2926, 2955, 2962, 3041, 3051, 3135, 3321, 3388, 3402, 3514, 4054, 4090, 4200, 4685, 4923, 5058, 5166, 5219, 5273, 5348, 5635, 5746, 5983, 6188, 6323, 6405, 6415, 6477, 6514, 6683, 6939, 6984, 7048, 7069, 7275, 7403, 7517, 7660, 7704, 8072, 8165, 8260, 8300, 8386, 8414, 8706, 8740, 8892, 8967, 8989, 9061, 9237, 9348, 9432, 9483, 9657, 9909, 9934, 9992, 10205, 10245, 10339, 10514, 10530, 10626, 10727, 10766, 10769, 10797, 10859, 10877, 11132, 11160, 11233, 11273, 11379, 11382, 11528, 11649, 11768, 11887, 11953, 11957, 12017, 12039, 12066, 12108, 12203, 12213, 12239, 12306, 12366, 12383, 12535, 12545, 12611, 12680, 12686, 12743, 12880, 13028, 13427, 13441, 13524, 13605, 13621, 13743, 13795, 13864, 14043, 14170, 14290, 14325, 14360, 14383, 14430, 14483, 14629, 14774, 14839, 14859, 14877, 14927, 14941, 14950, 15018, 15024, 15327, 15453, 15493, 15558, 15637, 15673, 15957, 15989, 16265, 16409, 16446, 16642, 16712, 16721, 16893, 16978, 17240, 17331, 17364, 17369, 17498, 17730, 17733, 17797, 17802, 17918, 17926, 17963, 18024, 18173, 18317, 18330, 18448, 18482, 18523, 18524, 18569, 18582, 18655, 18707, 18765, 18782, 18811, 19068, 19353, 19355, 19356, 19395, 19445, 19467, 19555, 19555, 19623, 19763, 19803, 19827, 19833, 19927, 19927, 20166, 20176, 20219, 20224, 20290, 20454, 20527, 20701, 20976, 21163, 21272, 21592, 21960, 22149, 22206, 22275, 22404, 22431, 22551, 22583, 22604, 22606, 22970, 23016, 23127, 23318, 23330, 23424, 23497, 23503, 23531, 23599, 23604, 23823, 23826, 24073, 24103, 24314, 24320, 24359, 24359, 24368, 24723, 24724, 24831, 24915, 25318, 25419, 25504, 25575, 25616, 25746, 25774, 25776, 26136, 26195, 26322, 26356, 26414, 26584, 26665, 26906, 26983, 27010, 27077, 27156, 27237, 27259, 27493, 27540, 27567, 27596, 27690, 28079, 28100, 28446, 28659, 28681, 28716, 28916, 28922, 28930, 29018, 29044, 29112, 29118, 29218, 29273, 29300, 29367, 29375, 29433, 29775, 29811, 30024, 30108, 30407, 30464, 30621]\n",
      "\n",
      "[75, 215, 432, 466, 619, 636, 648, 667, 722, 728, 773, 880, 915, 934, 947, 1081, 1143, 1144, 1208, 1270, 1309, 1336, 1482, 1630, 1662, 1729, 1972, 1976, 2073, 2408, 2465, 2525, 2792, 2889, 2906, 2922, 2926, 2955, 2962, 3041, 3051, 3135, 3321, 3388, 3402, 3514, 4054, 4090, 4200, 4685, 4923, 5058, 5166, 5219, 5273, 5348, 5635, 5746, 5983, 6188, 6323, 6405, 6415, 6477, 6514, 6683, 6939, 6984, 7048, 7069, 7275, 7403, 7517, 7660, 7704, 8072, 8165, 8260, 8300, 8386, 8414, 8706, 8740, 8892, 8967, 8989, 9061, 9237, 9348, 9432, 9483, 9657, 9909, 9934, 9992, 10205, 10245, 10339, 10514, 10530, 10626, 10727, 10766, 10769, 10797, 10859, 10877, 11132, 11160, 11233, 11273, 11379, 11382, 11528, 11649, 11768, 11887, 11953, 11957, 12017, 12039, 12066, 12108, 12203, 12213, 12239, 12306, 12366, 12383, 12535, 12545, 12611, 12680, 12686, 12743, 12880, 13028, 13427, 13441, 13524, 13605, 13621, 13743, 13795, 13864, 14043, 14170, 14290, 14325, 14360, 14383, 14430, 14483, 14629, 14774, 14839, 14859, 14877, 14927, 14941, 14950, 15018, 15024, 15327, 15453, 15493, 15558, 15637, 15673, 15957, 15989, 16265, 16409, 16446, 16642, 16712, 16721, 16893, 16978, 17240, 17331, 17364, 17369, 17498, 17730, 17733, 17797, 17802, 17918, 17926, 17963, 18024, 18173, 18317, 18330, 18448, 18482, 18523, 18524, 18569, 18582, 18655, 18707, 18765, 18782, 18811, 19068, 19353, 19355, 19356, 19395, 19445, 19467, 19555, 19555, 19623, 19763, 19803, 19827, 19833, 19927, 19927, 20166, 20176, 20219, 20224, 20290, 20454, 20527, 20701, 20976, 21163, 21272, 21592, 21960, 22149, 22206, 22275, 22404, 22431, 22551, 22583, 22604, 22606, 22970, 23016, 23127, 23318, 23330, 23424, 23497, 23503, 23531, 23599, 23604, 23823, 23826, 24073, 24103, 24314, 24320, 24359, 24359, 24368, 24723, 24724, 24831, 24915, 25318, 25419, 25504, 25575, 25616, 25746, 25774, 25776, 26136, 26195, 26322, 26356, 26414, 26584, 26665, 26906, 26983, 27010, 27077, 27156, 27237, 27259, 27493, 27540, 27567, 27596, 27690, 28079, 28100, 28446, 28659, 28681, 28716, 28916, 28922, 28930, 29018, 29044, 29112, 29118, 29218, 29273, 29300, 29367, 29375, 29433, 29775, 29811, 30024, 30108, 30407, 30464, 30621]\n",
      "\n",
      "[462, 3919, 13900, 14196, 16721, 17736, 19596, 19981, 26930, 29858]\n",
      "\n",
      "[9956, 20282, 23350, 25366, 30523]\n",
      "[]\n"
     ]
    }
   ],
   "source": [
    "# Test cases\n",
    "print inverted_index[\"Love\".lower()]\n",
    "print\n",
    "print inverted_index[\"love\".lower()]\n",
    "print\n",
    "print inverted_index[\"hate\"]\n",
    "print\n",
    "print inverted_index[\"violence\"]\n",
    "print inverted_index[\"Superman\"]"
   ]
  },
  {
   "cell_type": "code",
   "execution_count": 6,
   "metadata": {
    "collapsed": true
   },
   "outputs": [],
   "source": [
    "# Output inverted index in a json file\n",
    "import json\n",
    "import io\n",
    "\n",
    "def output(inverted_index, file_name):\n",
    "    with io.open(file_name, 'w', encoding='utf-8') as output_file:\n",
    "        output_file.write(unicode(json.dumps(inverted_index, ensure_ascii=False)))\n"
   ]
  },
  {
   "cell_type": "code",
   "execution_count": 7,
   "metadata": {
    "collapsed": false
   },
   "outputs": [],
   "source": [
    "# Actual output\n",
    "output(inverted_index,\"inverted_index.json\")"
   ]
  }
 ],
 "metadata": {
  "kernelspec": {
   "display_name": "Python 2",
   "language": "python",
   "name": "python2"
  },
  "language_info": {
   "codemirror_mode": {
    "name": "ipython",
    "version": 2
   },
   "file_extension": ".py",
   "mimetype": "text/x-python",
   "name": "python",
   "nbconvert_exporter": "python",
   "pygments_lexer": "ipython2",
   "version": "2.7.11"
  }
 },
 "nbformat": 4,
 "nbformat_minor": 0
}
