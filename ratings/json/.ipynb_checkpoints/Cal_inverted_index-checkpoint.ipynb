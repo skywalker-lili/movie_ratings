{
 "cells": [
  {
   "cell_type": "code",
   "execution_count": 3,
   "metadata": {
    "collapsed": true
   },
   "outputs": [],
   "source": [
    "import os\n",
    "import json"
   ]
  },
  {
   "cell_type": "code",
   "execution_count": 4,
   "metadata": {
    "collapsed": false
   },
   "outputs": [
    {
     "name": "stdout",
     "output_type": "stream",
     "text": [
      "3663\n"
     ]
    },
    {
     "data": {
      "text/plain": [
       "{u'comment': u'for strong violence and some language',\n",
       " u'name': u'V for Vendetta',\n",
       " u'rating_actual': u'R',\n",
       " u'rating_predict': u'R',\n",
       " u'top_words': [[u'fucking', 0.04940619672410272],\n",
       "  [u'shit', 0.03281624962782425],\n",
       "  [u'killed', 0.01973911706661994],\n",
       "  [u'inspector', 0.01661812727555209],\n",
       "  [u'bloody', 0.015631428000330114],\n",
       "  [u'didn', 0.015264670930745794],\n",
       "  [u'finch', 0.014972360813288194],\n",
       "  [u'kill', 0.01420997933896451],\n",
       "  [u'st', 0.013729558337987708],\n",
       "  [u'yeah', 0.013684430388182511],\n",
       "  [u'evey', 0.013461379731242878],\n",
       "  [u'christ', 0.011611186403247814],\n",
       "  [u'understand', 0.011188380144418442],\n",
       "  [u'terrorist', 0.010856247079420414],\n",
       "  [u'god', 0.00981402875138675],\n",
       "  [u'die', 0.009747566606062751],\n",
       "  [u'jesus', 0.009483480324067407],\n",
       "  [u'london', 0.009467999990546783],\n",
       "  [u'grace', 0.008749092473047155],\n",
       "  [u'goddamn', 0.00805005560751694],\n",
       "  [u'men', 0.008024126294719248],\n",
       "  [u'happened', 0.00790689868327358],\n",
       "  [u'remember', 0.0073416429740666336],\n",
       "  [u'else', 0.006900494446146503],\n",
       "  [u'tonight', 0.006640712543768586],\n",
       "  [u'feel', 0.006273217759319259],\n",
       "  [u'hell', 0.006264168480745808],\n",
       "  [u'dead', 0.006259816914992962],\n",
       "  [u'devil', 0.005725109284344217],\n",
       "  [u'death', 0.005620613301772266]],\n",
       " u'year': u'2005'}"
      ]
     },
     "execution_count": 4,
     "metadata": {},
     "output_type": "execute_result"
    }
   ],
   "source": [
    "# Read data\n",
    "with open(\"movies.json\") as data_file:\n",
    "    movies = json.load(data_file)\n",
    "print len(movies)\n",
    "movies[0]"
   ]
  },
  {
   "cell_type": "code",
   "execution_count": 5,
   "metadata": {
    "collapsed": false
   },
   "outputs": [
    {
     "name": "stdout",
     "output_type": "stream",
     "text": [
      "3663\n"
     ]
    },
    {
     "data": {
      "text/plain": [
       "[u'V', u'for', u'Vendetta']"
      ]
     },
     "execution_count": 5,
     "metadata": {},
     "output_type": "execute_result"
    }
   ],
   "source": [
    "# Create a list of lists of the tokens in each movie\n",
    "# Each list in the big list is a movie, each token in the list is word token from the title of this movie\n",
    "title_tokens = [] \n",
    "for movie in movies:\n",
    "    title_tokens.append(movie[\"name\"].split())\n",
    "\n",
    "print len(title_tokens)\n",
    "title_tokens[0]"
   ]
  },
  {
   "cell_type": "code",
   "execution_count": 2,
   "metadata": {
    "collapsed": false
   },
   "outputs": [
    {
     "ename": "NameError",
     "evalue": "name 'title_tokens' is not defined",
     "output_type": "error",
     "traceback": [
      "\u001b[1;31m---------------------------------------------------------------------------\u001b[0m",
      "\u001b[1;31mNameError\u001b[0m                                 Traceback (most recent call last)",
      "\u001b[1;32m<ipython-input-2-92fd4909a992>\u001b[0m in \u001b[0;36m<module>\u001b[1;34m()\u001b[0m\n\u001b[0;32m     10\u001b[0m     \u001b[1;32mreturn\u001b[0m \u001b[0minverted_index\u001b[0m\u001b[1;33m\u001b[0m\u001b[0m\n\u001b[0;32m     11\u001b[0m \u001b[1;33m\u001b[0m\u001b[0m\n\u001b[1;32m---> 12\u001b[1;33m \u001b[0minverted_index\u001b[0m \u001b[1;33m=\u001b[0m \u001b[0mcreate_inverted_idx\u001b[0m\u001b[1;33m(\u001b[0m\u001b[0mtitle_tokens\u001b[0m\u001b[1;33m)\u001b[0m\u001b[1;33m\u001b[0m\u001b[0m\n\u001b[0m\u001b[0;32m     13\u001b[0m \u001b[1;32mprint\u001b[0m \u001b[0mlen\u001b[0m\u001b[1;33m(\u001b[0m\u001b[0minverted_index\u001b[0m\u001b[1;33m.\u001b[0m\u001b[0mkeys\u001b[0m\u001b[1;33m(\u001b[0m\u001b[1;33m)\u001b[0m\u001b[1;33m)\u001b[0m\u001b[1;33m\u001b[0m\u001b[0m\n\u001b[0;32m     14\u001b[0m \u001b[0minverted_index\u001b[0m\u001b[1;33m[\u001b[0m\u001b[1;34m\"Vendetta\"\u001b[0m\u001b[1;33m]\u001b[0m\u001b[1;33m\u001b[0m\u001b[0m\n",
      "\u001b[1;31mNameError\u001b[0m: name 'title_tokens' is not defined"
     ]
    }
   ],
   "source": [
    "# Function to create inverted index\n",
    "# Inverted index is a dictionary between tokens and a list of index of movie json object\n",
    "from collections import defaultdict\n",
    "\n",
    "def create_inverted_idx(title_tokens):\n",
    "    inverted_index = defaultdict(list)\n",
    "    for i, tokens in enumerate(title_tokens):\n",
    "        for token in tokens:\n",
    "            inverted_index[token.lower()].append(i) # all tokens to lower case\n",
    "    return inverted_index\n",
    "\n",
    "inverted_index = create_inverted_idx(title_tokens)\n",
    "print len(inverted_index.keys())\n",
    "inverted_index[\"Vendetta\"]"
   ]
  },
  {
   "cell_type": "code",
   "execution_count": 1,
   "metadata": {
    "collapsed": false
   },
   "outputs": [
    {
     "data": {
      "text/plain": [
       "'vendetta'"
      ]
     },
     "execution_count": 1,
     "metadata": {},
     "output_type": "execute_result"
    }
   ],
   "source": [
    "\"Vendetta\".lower()"
   ]
  }
 ],
 "metadata": {
  "kernelspec": {
   "display_name": "Python 2",
   "language": "python",
   "name": "python2"
  },
  "language_info": {
   "codemirror_mode": {
    "name": "ipython",
    "version": 2
   },
   "file_extension": ".py",
   "mimetype": "text/x-python",
   "name": "python",
   "nbconvert_exporter": "python",
   "pygments_lexer": "ipython2",
   "version": "2.7.11"
  }
 },
 "nbformat": 4,
 "nbformat_minor": 0
}
